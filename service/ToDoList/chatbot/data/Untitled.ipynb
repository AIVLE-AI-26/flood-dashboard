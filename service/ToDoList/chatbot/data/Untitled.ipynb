{
 "cells": [
  {
   "cell_type": "code",
   "execution_count": 1,
   "id": "5feb0fd5",
   "metadata": {},
   "outputs": [],
   "source": [
    "import pandas as pd"
   ]
  },
  {
   "cell_type": "code",
   "execution_count": 2,
   "id": "a8a2266d",
   "metadata": {},
   "outputs": [],
   "source": [
    "data=pd.read_json('qa_document.json')"
   ]
  },
  {
   "cell_type": "code",
   "execution_count": 5,
   "id": "ced4e157",
   "metadata": {},
   "outputs": [
    {
     "data": {
      "text/html": [
       "<div>\n",
       "<style scoped>\n",
       "    .dataframe tbody tr th:only-of-type {\n",
       "        vertical-align: middle;\n",
       "    }\n",
       "\n",
       "    .dataframe tbody tr th {\n",
       "        vertical-align: top;\n",
       "    }\n",
       "\n",
       "    .dataframe thead th {\n",
       "        text-align: right;\n",
       "    }\n",
       "</style>\n",
       "<table border=\"1\" class=\"dataframe\">\n",
       "  <thead>\n",
       "    <tr style=\"text-align: right;\">\n",
       "      <th></th>\n",
       "      <th>qa_pairs</th>\n",
       "    </tr>\n",
       "  </thead>\n",
       "  <tbody>\n",
       "    <tr>\n",
       "      <th>0</th>\n",
       "      <td>{'question': '도시화의 정의는 무엇인가요?', 'answer': '도시화...</td>\n",
       "    </tr>\n",
       "    <tr>\n",
       "      <th>1</th>\n",
       "      <td>{'question': '도시화가 홍수 피해규모에 어떤 영향을 미치나요?', 'an...</td>\n",
       "    </tr>\n",
       "    <tr>\n",
       "      <th>2</th>\n",
       "      <td>{'question': '홍수 피해규모의 정의는 무엇인가요?', 'answer': ...</td>\n",
       "    </tr>\n",
       "    <tr>\n",
       "      <th>3</th>\n",
       "      <td>{'question': '도시화로 인해 발생하는 홍수 피해의 주요 원인은 무엇인가요...</td>\n",
       "    </tr>\n",
       "    <tr>\n",
       "      <th>4</th>\n",
       "      <td>{'question': '연구에서 분석된 기간과 공간 범위는 어떻게 되나요?', '...</td>\n",
       "    </tr>\n",
       "  </tbody>\n",
       "</table>\n",
       "</div>"
      ],
      "text/plain": [
       "                                            qa_pairs\n",
       "0  {'question': '도시화의 정의는 무엇인가요?', 'answer': '도시화...\n",
       "1  {'question': '도시화가 홍수 피해규모에 어떤 영향을 미치나요?', 'an...\n",
       "2  {'question': '홍수 피해규모의 정의는 무엇인가요?', 'answer': ...\n",
       "3  {'question': '도시화로 인해 발생하는 홍수 피해의 주요 원인은 무엇인가요...\n",
       "4  {'question': '연구에서 분석된 기간과 공간 범위는 어떻게 되나요?', '..."
      ]
     },
     "execution_count": 5,
     "metadata": {},
     "output_type": "execute_result"
    }
   ],
   "source": [
    "data.head()"
   ]
  }
 ],
 "metadata": {
  "kernelspec": {
   "display_name": "Python 3 (ipykernel)",
   "language": "python",
   "name": "python3"
  },
  "language_info": {
   "codemirror_mode": {
    "name": "ipython",
    "version": 3
   },
   "file_extension": ".py",
   "mimetype": "text/x-python",
   "name": "python",
   "nbconvert_exporter": "python",
   "pygments_lexer": "ipython3",
   "version": "3.11.5"
  }
 },
 "nbformat": 4,
 "nbformat_minor": 5
}
